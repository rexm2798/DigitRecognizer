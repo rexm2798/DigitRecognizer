{
 "cells": [
  {
   "cell_type": "markdown",
   "id": "933d3111",
   "metadata": {},
   "source": [
    "A Simple Digit Recognizer from the infamous MNIST dataset. This is actually called the \"Hello World!\" for Neural Networks. The project is taking help from a kaggle note book adn two you tube videos.\n",
    "\n",
    "1. Building a neural network FROM SCRATCH (no Tensorflow/Pytorch, just numpy & math) by Samson Zhang - https://www.youtube.com/watch?v=w8yWXqWQYmU\n",
    "2. Neural networks Series by 3Blue1Brown (First 4 videos are good enough for the project) - https://www.youtube.com/playlist?list=PLZHQObOWTQDNU6R1_67000Dx_ZCJB-3pi\n"
   ]
  },
  {
   "cell_type": "code",
   "execution_count": null,
   "id": "d831d587",
   "metadata": {},
   "outputs": [],
   "source": [
    "#Importing the needed libraries and connecting to the dataset\n",
    "import numpy as np\n",
    "import pandas as pd\n",
    "from matplotlib import pyplot as plt\n",
    "\n",
    "data  =pd.read_csv(\"train.csv\")"
   ]
  },
  {
   "cell_type": "code",
   "execution_count": 8,
   "id": "e8dd0ed7",
   "metadata": {},
   "outputs": [
    {
     "name": "stdout",
     "output_type": "stream",
     "text": [
      "42000 785\n"
     ]
    }
   ],
   "source": [
    "data = np.array(data)\n",
    "m,n = data.shape\n",
    "print(m,n)"
   ]
  },
  {
   "cell_type": "code",
   "execution_count": 21,
   "id": "0ae8a596",
   "metadata": {},
   "outputs": [],
   "source": [
    "# There could be a chance the dataset will be ordered, so we shuffle it\n",
    "np.random.shuffle(data) \n",
    "\n",
    "#Splitting the adatset into dev and training sets and transposing it\n",
    "\n",
    "#Dev dataset\n",
    "data_dev=data[1:1000].T\n",
    "Y_dev=data_dev[0]\n",
    "X_dev=data_dev[1:n]\n",
    "# Normalizing the data from 0–255 (grayscale) to 0–1\n",
    "X_dev= X_dev/255.0 \n",
    "\n",
    "#Training dataset\n",
    "data_train=data[1000:m].T\n",
    "Y_train= data_train[0]\n",
    "X_train=data_train[1:n]\n",
    "X_train=X_train/255.0\n",
    "\n",
    "_,m_train=X_train.shape"
   ]
  },
  {
   "cell_type": "code",
   "execution_count": 22,
   "id": "4f1917d3",
   "metadata": {},
   "outputs": [
    {
     "data": {
      "text/plain": [
       "41000"
      ]
     },
     "execution_count": 22,
     "metadata": {},
     "output_type": "execute_result"
    }
   ],
   "source": [
    "m_train"
   ]
  },
  {
   "cell_type": "markdown",
   "id": "fee5e45d",
   "metadata": {},
   "source": [
    "Our NN will have a simple two-layer architecture. Input layer  a[0]\n",
    "  will have 784 units corresponding to the 784 pixels in each 28x28 input image. A hidden layer  a[1]\n",
    "  will have 10 units with ReLU activation, and finally our output layer  a[2]\n",
    "  will have 10 units corresponding to the ten digit classes with softmax activation."
   ]
  }
 ],
 "metadata": {
  "kernelspec": {
   "display_name": "venv",
   "language": "python",
   "name": "python3"
  },
  "language_info": {
   "codemirror_mode": {
    "name": "ipython",
    "version": 3
   },
   "file_extension": ".py",
   "mimetype": "text/x-python",
   "name": "python",
   "nbconvert_exporter": "python",
   "pygments_lexer": "ipython3",
   "version": "3.10.6"
  }
 },
 "nbformat": 4,
 "nbformat_minor": 5
}
