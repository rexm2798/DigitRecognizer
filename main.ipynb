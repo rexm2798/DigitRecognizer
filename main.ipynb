{
 "cells": [
  {
   "cell_type": "markdown",
   "id": "933d3111",
   "metadata": {},
   "source": [
    "A Simple Digit Recognizer from the infamous MNIST dataset. This is actually called the \"Hello World!\" for Neural Networks. The project is taking help from a kaggle note book adn two you tube videos.\n",
    "\n",
    "1. Building a neural network FROM SCRATCH (no Tensorflow/Pytorch, just numpy & math) by Samson Zhang - https://www.youtube.com/watch?v=w8yWXqWQYmU\n",
    "2. Neural networks Series by 3Blue1Brown (First 4 videos are good enough for the project) - https://www.youtube.com/playlist?list=PLZHQObOWTQDNU6R1_67000Dx_ZCJB-3pi\n"
   ]
  },
  {
   "cell_type": "code",
   "execution_count": null,
   "id": "d831d587",
   "metadata": {},
   "outputs": [],
   "source": [
    "#Importing the needed libraries and connecting to the dataset\n",
    "import numpy as np\n",
    "import pandas as pd\n",
    "from matplotlib import pyplot as plt\n",
    "\n",
    "data  =pd.read_csv(\"train.csv\")"
   ]
  }
 ],
 "metadata": {
  "kernelspec": {
   "display_name": "venv",
   "language": "python",
   "name": "python3"
  },
  "language_info": {
   "codemirror_mode": {
    "name": "ipython",
    "version": 3
   },
   "file_extension": ".py",
   "mimetype": "text/x-python",
   "name": "python",
   "nbconvert_exporter": "python",
   "pygments_lexer": "ipython3",
   "version": "3.10.6"
  }
 },
 "nbformat": 4,
 "nbformat_minor": 5
}
